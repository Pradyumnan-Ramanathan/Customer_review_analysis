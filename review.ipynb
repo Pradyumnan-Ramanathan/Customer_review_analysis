{
 "cells": [
  {
   "cell_type": "code",
   "execution_count": 67,
   "id": "387a441e",
   "metadata": {},
   "outputs": [],
   "source": [
    "import pandas as pd\n",
    "import numpy as np\n",
    "\n",
    "df=pd.read_csv('Dataset-SA.csv')\n"
   ]
  },
  {
   "cell_type": "code",
   "execution_count": 68,
   "id": "5e2287d9",
   "metadata": {},
   "outputs": [
    {
     "data": {
      "text/plain": [
       "<bound method NDFrame.head of                                              product_name product_price Rate  \\\n",
       "0       Candes 12 L Room/Personal Air Cooler??????(Whi...          3999    5   \n",
       "1       Candes 12 L Room/Personal Air Cooler??????(Whi...          3999    5   \n",
       "2       Candes 12 L Room/Personal Air Cooler??????(Whi...          3999    3   \n",
       "3       Candes 12 L Room/Personal Air Cooler??????(Whi...          3999    1   \n",
       "4       Candes 12 L Room/Personal Air Cooler??????(Whi...          3999    3   \n",
       "...                                                   ...           ...  ...   \n",
       "205047  cello Pack of 18 Opalware Cello Dazzle Lush Fi...          1299    5   \n",
       "205048  cello Pack of 18 Opalware Cello Dazzle Lush Fi...          1299    5   \n",
       "205049  cello Pack of 18 Opalware Cello Dazzle Lush Fi...          1299    3   \n",
       "205050  cello Pack of 18 Opalware Cello Dazzle Lush Fi...          1299    5   \n",
       "205051  cello Pack of 18 Opalware Cello Dazzle Lush Fi...          1299    4   \n",
       "\n",
       "                 Review                                            Summary  \\\n",
       "0                super!  great cooler excellent air flow and for this p...   \n",
       "1               awesome              best budget 2 fit cooler nice cooling   \n",
       "2                  fair  the quality is good but the power of air is de...   \n",
       "3       useless product                  very bad product its a only a fan   \n",
       "4                  fair                                      ok ok product   \n",
       "...                 ...                                                ...   \n",
       "205047        must buy!                                       good product   \n",
       "205048           super!                                               nice   \n",
       "205049             nice                        very nice and fast delivery   \n",
       "205050        just wow!                                    awesome product   \n",
       "205051  value-for-money  very good but mixing bowl not included is one ...   \n",
       "\n",
       "       Sentiment  \n",
       "0       positive  \n",
       "1       positive  \n",
       "2       positive  \n",
       "3       negative  \n",
       "4        neutral  \n",
       "...          ...  \n",
       "205047  positive  \n",
       "205048  positive  \n",
       "205049  positive  \n",
       "205050  positive  \n",
       "205051   neutral  \n",
       "\n",
       "[205052 rows x 6 columns]>"
      ]
     },
     "execution_count": 68,
     "metadata": {},
     "output_type": "execute_result"
    }
   ],
   "source": [
    "df.head"
   ]
  },
  {
   "cell_type": "code",
   "execution_count": 69,
   "id": "a90a15b9",
   "metadata": {},
   "outputs": [
    {
     "data": {
      "text/plain": [
       "(205052, 6)"
      ]
     },
     "execution_count": 69,
     "metadata": {},
     "output_type": "execute_result"
    }
   ],
   "source": [
    "df.shape"
   ]
  },
  {
   "cell_type": "code",
   "execution_count": 70,
   "id": "132d074d",
   "metadata": {},
   "outputs": [
    {
     "data": {
      "text/html": [
       "<div>\n",
       "<style scoped>\n",
       "    .dataframe tbody tr th:only-of-type {\n",
       "        vertical-align: middle;\n",
       "    }\n",
       "\n",
       "    .dataframe tbody tr th {\n",
       "        vertical-align: top;\n",
       "    }\n",
       "\n",
       "    .dataframe thead th {\n",
       "        text-align: right;\n",
       "    }\n",
       "</style>\n",
       "<table border=\"1\" class=\"dataframe\">\n",
       "  <thead>\n",
       "    <tr style=\"text-align: right;\">\n",
       "      <th></th>\n",
       "      <th>product_name</th>\n",
       "      <th>product_price</th>\n",
       "      <th>Rate</th>\n",
       "      <th>Review</th>\n",
       "      <th>Summary</th>\n",
       "      <th>Sentiment</th>\n",
       "    </tr>\n",
       "  </thead>\n",
       "  <tbody>\n",
       "    <tr>\n",
       "      <th>count</th>\n",
       "      <td>205052</td>\n",
       "      <td>205052</td>\n",
       "      <td>205052</td>\n",
       "      <td>180388</td>\n",
       "      <td>205041</td>\n",
       "      <td>205052</td>\n",
       "    </tr>\n",
       "    <tr>\n",
       "      <th>unique</th>\n",
       "      <td>958</td>\n",
       "      <td>525</td>\n",
       "      <td>8</td>\n",
       "      <td>1324</td>\n",
       "      <td>92923</td>\n",
       "      <td>3</td>\n",
       "    </tr>\n",
       "    <tr>\n",
       "      <th>top</th>\n",
       "      <td>cello Pack of 18 Opalware Cello Dazzle Lush Fi...</td>\n",
       "      <td>1299</td>\n",
       "      <td>5</td>\n",
       "      <td>wonderful</td>\n",
       "      <td>good</td>\n",
       "      <td>positive</td>\n",
       "    </tr>\n",
       "    <tr>\n",
       "      <th>freq</th>\n",
       "      <td>6005</td>\n",
       "      <td>9150</td>\n",
       "      <td>118765</td>\n",
       "      <td>9016</td>\n",
       "      <td>17430</td>\n",
       "      <td>166581</td>\n",
       "    </tr>\n",
       "  </tbody>\n",
       "</table>\n",
       "</div>"
      ],
      "text/plain": [
       "                                             product_name product_price  \\\n",
       "count                                              205052        205052   \n",
       "unique                                                958           525   \n",
       "top     cello Pack of 18 Opalware Cello Dazzle Lush Fi...          1299   \n",
       "freq                                                 6005          9150   \n",
       "\n",
       "          Rate     Review Summary Sentiment  \n",
       "count   205052     180388  205041    205052  \n",
       "unique       8       1324   92923         3  \n",
       "top          5  wonderful    good  positive  \n",
       "freq    118765       9016   17430    166581  "
      ]
     },
     "execution_count": 70,
     "metadata": {},
     "output_type": "execute_result"
    }
   ],
   "source": [
    "df.describe()"
   ]
  },
  {
   "cell_type": "code",
   "execution_count": 71,
   "id": "55bfd598",
   "metadata": {},
   "outputs": [
    {
     "data": {
      "text/plain": [
       "product_name         0\n",
       "product_price        0\n",
       "Rate                 0\n",
       "Review           24664\n",
       "Summary             11\n",
       "Sentiment            0\n",
       "dtype: int64"
      ]
     },
     "execution_count": 71,
     "metadata": {},
     "output_type": "execute_result"
    }
   ],
   "source": [
    "df.isnull().sum()"
   ]
  },
  {
   "cell_type": "code",
   "execution_count": 72,
   "id": "8f43bcfb",
   "metadata": {},
   "outputs": [
    {
     "name": "stdout",
     "output_type": "stream",
     "text": [
      "(180379, 6)\n"
     ]
    }
   ],
   "source": [
    "df = df.dropna(subset=['Review', 'Summary'])\n",
    "print(df.shape) "
   ]
  },
  {
   "cell_type": "code",
   "execution_count": 73,
   "id": "c994cc54",
   "metadata": {},
   "outputs": [
    {
     "data": {
      "text/plain": [
       "product_name     0\n",
       "product_price    0\n",
       "Rate             0\n",
       "Review           0\n",
       "Summary          0\n",
       "Sentiment        0\n",
       "dtype: int64"
      ]
     },
     "execution_count": 73,
     "metadata": {},
     "output_type": "execute_result"
    }
   ],
   "source": [
    "df.isnull().sum()"
   ]
  },
  {
   "cell_type": "code",
   "execution_count": 74,
   "id": "1c7283cc",
   "metadata": {},
   "outputs": [
    {
     "name": "stdout",
     "output_type": "stream",
     "text": [
      "Sentiment\n",
      "positive    8807\n",
      "negative    8807\n",
      "neutral     8807\n",
      "Name: count, dtype: int64\n"
     ]
    }
   ],
   "source": [
    "# Example with pandas\n",
    "df_positive = df[df['Sentiment'] == 'positive'].sample(n=8807, random_state=42)\n",
    "df_negative = df[df['Sentiment'] == 'negative'].sample(n=8807, random_state=42)\n",
    "df_neutral  = df[df['Sentiment'] == 'neutral']   # keep all\n",
    "\n",
    "df_balanced = pd.concat([df_positive, df_negative, df_neutral])\n",
    "print(df_balanced['Sentiment'].value_counts())\n"
   ]
  },
  {
   "cell_type": "code",
   "execution_count": 75,
   "id": "4b427a6f",
   "metadata": {},
   "outputs": [
    {
     "data": {
      "text/plain": [
       "(26421, 6)"
      ]
     },
     "execution_count": 75,
     "metadata": {},
     "output_type": "execute_result"
    }
   ],
   "source": [
    "df_balanced.shape"
   ]
  },
  {
   "cell_type": "code",
   "execution_count": 76,
   "id": "f90e7f44",
   "metadata": {},
   "outputs": [
    {
     "name": "stdout",
     "output_type": "stream",
     "text": [
      "22276     mind-blowing purchase\n",
      "184721           simply awesome\n",
      "18188     slightly disappointed\n",
      "179306                  awesome\n",
      "69723                   awesome\n",
      "Name: Review, dtype: object\n"
     ]
    }
   ],
   "source": [
    "print(df_balanced['Review'].head())"
   ]
  },
  {
   "cell_type": "code",
   "execution_count": 58,
   "id": "52141726",
   "metadata": {},
   "outputs": [
    {
     "name": "stdout",
     "output_type": "stream",
     "text": [
      "Collecting nltk\n",
      "  Using cached nltk-3.9.1-py3-none-any.whl.metadata (2.9 kB)\n",
      "Requirement already satisfied: click in c:\\users\\sowmi\\appdata\\local\\programs\\python\\python312\\lib\\site-packages (from nltk) (8.2.1)\n",
      "Requirement already satisfied: joblib in c:\\users\\sowmi\\appdata\\local\\programs\\python\\python312\\lib\\site-packages (from nltk) (1.4.2)\n",
      "Collecting regex>=2021.8.3 (from nltk)\n",
      "  Using cached regex-2024.11.6-cp312-cp312-win_amd64.whl.metadata (41 kB)\n",
      "Collecting tqdm (from nltk)\n",
      "  Using cached tqdm-4.67.1-py3-none-any.whl.metadata (57 kB)\n",
      "Requirement already satisfied: colorama in c:\\users\\sowmi\\appdata\\roaming\\python\\python312\\site-packages (from click->nltk) (0.4.6)\n",
      "Using cached nltk-3.9.1-py3-none-any.whl (1.5 MB)\n",
      "Using cached regex-2024.11.6-cp312-cp312-win_amd64.whl (273 kB)\n",
      "Using cached tqdm-4.67.1-py3-none-any.whl (78 kB)\n",
      "Installing collected packages: tqdm, regex, nltk\n",
      "Successfully installed nltk-3.9.1 regex-2024.11.6 tqdm-4.67.1\n",
      "Note: you may need to restart the kernel to use updated packages.\n"
     ]
    },
    {
     "name": "stderr",
     "output_type": "stream",
     "text": [
      "\n",
      "[notice] A new release of pip is available: 24.3.1 -> 25.1.1\n",
      "[notice] To update, run: python.exe -m pip install --upgrade pip\n"
     ]
    }
   ],
   "source": [
    "pip install nltk"
   ]
  },
  {
   "cell_type": "code",
   "execution_count": 61,
   "id": "7c5c3851",
   "metadata": {},
   "outputs": [
    {
     "name": "stderr",
     "output_type": "stream",
     "text": [
      "[nltk_data] Downloading package stopwords to\n",
      "[nltk_data]     C:\\Users\\sowmi\\AppData\\Roaming\\nltk_data...\n",
      "[nltk_data]   Package stopwords is already up-to-date!\n"
     ]
    }
   ],
   "source": [
    "from sklearn.feature_extraction.text import TfidfVectorizer\n",
    "from nltk.corpus import stopwords\n",
    "import nltk\n",
    "\n",
    "nltk.download('stopwords')\n",
    "\n",
    "stop_words = set(stopwords.words('english'))"
   ]
  },
  {
   "cell_type": "code",
   "execution_count": 81,
   "id": "739b3dfc",
   "metadata": {},
   "outputs": [],
   "source": [
    "from sklearn.preprocessing import LabelEncoder\n",
    "\n",
    "def preprocess_text(text):\n",
    "    text = text.lower()\n",
    "    \n",
    "    # Remove punctuation\n",
    "    text = ''.join(char for char in text if char.isalnum() or char.isspace())\n",
    "    \n",
    "    # Tokenize and remove stopwords\n",
    "    tokens = text.split()\n",
    "    tokens = [word for word in tokens if word not in stop_words]\n",
    "    # Generate bigrams (n-grams with 2 words)\n",
    "    bigrams = [' '.join(tokens[i:i+2]) for i in range(len(tokens)-1)]\n",
    "    tokens += bigrams\n",
    "    # Join back into string\n",
    "    return ' '.join(tokens)\n",
    "\n",
    "df_balanced['clean_review'] = df_balanced['Review'].apply(preprocess_text)\n",
    "\n",
    "\n",
    "X = df_balanced['clean_review']\n",
    "y = df_balanced['Sentiment']\n",
    "\n",
    "le = LabelEncoder()\n",
    "y = le.fit_transform(y)\n",
    "\n",
    "tfidf = TfidfVectorizer()\n",
    "X_tfidf = tfidf.fit_transform(X)\n",
    "\n",
    "from sklearn.model_selection import train_test_split\n",
    "X_train, X_test, y_train, y_test = train_test_split(X_tfidf, y, test_size=0.2, random_state=42, stratify=y)"
   ]
  },
  {
   "cell_type": "code",
   "execution_count": 82,
   "id": "789c1a34",
   "metadata": {},
   "outputs": [
    {
     "name": "stdout",
     "output_type": "stream",
     "text": [
      "Train shape: (21136, 372)\n",
      "Test shape: (5285, 372)\n",
      "Train label counts: Counter({np.int64(0): 7046, np.int64(2): 7045, np.int64(1): 7045})\n",
      "Test label counts: Counter({np.int64(2): 1762, np.int64(1): 1762, np.int64(0): 1761})\n"
     ]
    }
   ],
   "source": [
    "from collections import Counter\n",
    "\n",
    "print(\"Train shape:\", X_train.shape)\n",
    "print(\"Test shape:\", X_test.shape)\n",
    "\n",
    "print(\"Train label counts:\", Counter(y_train))\n",
    "print(\"Test label counts:\", Counter(y_test))"
   ]
  },
  {
   "cell_type": "code",
   "execution_count": 83,
   "id": "2a044405",
   "metadata": {},
   "outputs": [
    {
     "name": "stdout",
     "output_type": "stream",
     "text": [
      "Accuracy: 0.6862819299905393\n",
      "F1 Score: 0.6765165688278928\n",
      "              precision    recall  f1-score   support\n",
      "\n",
      "    negative       0.79      0.77      0.78      1761\n",
      "     neutral       0.57      0.44      0.50      1762\n",
      "    positive       0.68      0.85      0.75      1762\n",
      "\n",
      "    accuracy                           0.69      5285\n",
      "   macro avg       0.68      0.69      0.68      5285\n",
      "weighted avg       0.68      0.69      0.68      5285\n",
      "\n"
     ]
    }
   ],
   "source": [
    "from sklearn.ensemble import RandomForestClassifier\n",
    "from sklearn.metrics import classification_report, accuracy_score\n",
    "from sklearn.metrics import f1_score\n",
    "rf = RandomForestClassifier(n_estimators=100, random_state=42)\n",
    "rf.fit(X_train, y_train)\n",
    "\n",
    "y_pred = rf.predict(X_test)\n",
    "print(\"Accuracy:\", accuracy_score(y_test, y_pred))\n",
    "print(\"F1 Score:\", f1_score(y_test, y_pred, average='weighted'))\n",
    "print(classification_report(y_test, y_pred, target_names=le.classes_))"
   ]
  }
 ],
 "metadata": {
  "kernelspec": {
   "display_name": "Python 3",
   "language": "python",
   "name": "python3"
  },
  "language_info": {
   "codemirror_mode": {
    "name": "ipython",
    "version": 3
   },
   "file_extension": ".py",
   "mimetype": "text/x-python",
   "name": "python",
   "nbconvert_exporter": "python",
   "pygments_lexer": "ipython3",
   "version": "3.12.9"
  }
 },
 "nbformat": 4,
 "nbformat_minor": 5
}
