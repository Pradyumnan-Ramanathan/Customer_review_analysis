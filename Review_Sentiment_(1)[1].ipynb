{
  "cells": [
    {
      "cell_type": "code",
      "execution_count": 1,
      "metadata": {
        "colab": {
          "base_uri": "https://localhost:8080/"
        },
        "id": "rNhhLIGH1_V-",
        "outputId": "85690b15-fe04-4918-f8db-00754994e479"
      },
      "outputs": [
        {
          "name": "stderr",
          "output_type": "stream",
          "text": [
            "[nltk_data] Downloading package punkt_tab to\n",
            "[nltk_data]     C:\\Users\\sowmi\\AppData\\Roaming\\nltk_data...\n",
            "[nltk_data]   Unzipping tokenizers\\punkt_tab.zip.\n",
            "[nltk_data] Downloading package stopwords to\n",
            "[nltk_data]     C:\\Users\\sowmi\\AppData\\Roaming\\nltk_data...\n",
            "[nltk_data]   Package stopwords is already up-to-date!\n",
            "[nltk_data] Downloading package averaged_perceptron_tagger_eng to\n",
            "[nltk_data]     C:\\Users\\sowmi\\AppData\\Roaming\\nltk_data...\n",
            "[nltk_data]   Unzipping taggers\\averaged_perceptron_tagger_eng.zip.\n",
            "[nltk_data] Downloading package wordnet to\n",
            "[nltk_data]     C:\\Users\\sowmi\\AppData\\Roaming\\nltk_data...\n"
          ]
        }
      ],
      "source": [
        "import numpy as np\n",
        "import pandas as pd\n",
        "import re\n",
        "import nltk\n",
        "nltk.download('punkt_tab')\n",
        "from nltk.tokenize import word_tokenize\n",
        "nltk.download('stopwords')\n",
        "from nltk.corpus import stopwords\n",
        "nltk.download('averaged_perceptron_tagger_eng')\n",
        "nltk.download('wordnet')\n",
        "from nltk.stem import WordNetLemmatizer\n",
        "from nltk.corpus import wordnet\n",
        "from nltk import pos_tag\n",
        "from sklearn.preprocessing import LabelEncoder\n",
        "from sklearn.feature_extraction.text import TfidfVectorizer\n",
        "from scipy.sparse import hstack\n",
        "from sklearn.svm import SVC\n",
        "from sklearn.model_selection import train_test_split\n",
        "from sklearn.metrics import classification_report, confusion_matrix, accuracy_score, f1_score\n",
        "from sklearn.naive_bayes import MultinomialNB\n",
        "from sklearn.svm import LinearSVC\n",
        "from sklearn.ensemble import RandomForestClassifier"
      ]
    },
    {
      "cell_type": "markdown",
      "metadata": {},
      "source": [
        "Importing the dataset"
      ]
    },
    {
      "cell_type": "code",
      "execution_count": 2,
      "metadata": {
        "id": "i_pVrkfq9f8u"
      },
      "outputs": [],
      "source": [
        "dataset= pd.read_csv('Dataset-SA.csv')"
      ]
    },
    {
      "cell_type": "code",
      "execution_count": 39,
      "metadata": {},
      "outputs": [
        {
          "data": {
            "text/plain": [
              "Sentiment\n",
              "positive    166581\n",
              "negative     28232\n",
              "neutral      10239\n",
              "Name: count, dtype: int64"
            ]
          },
          "execution_count": 39,
          "metadata": {},
          "output_type": "execute_result"
        }
      ],
      "source": [
        "last_col=dataset.iloc[:,-1]\n",
        "last_col.value_counts()\n"
      ]
    },
    {
      "cell_type": "code",
      "execution_count": 43,
      "metadata": {},
      "outputs": [
        {
          "data": {
            "image/png": "[encoded data removed]",
            "text/plain": [
              "<Figure size 640x480 with 1 Axes>"
            ]
          },
          "metadata": {},
          "output_type": "display_data"
        }
      ],
      "source": [
        "import matplotlib.pyplot as plt\n",
        "X_axis=['positive', 'negative', 'neutral']\n",
        "Y_axis=last_col.value_counts().tolist()\n",
        "\n",
        "plt.bar(X_axis, Y_axis, color='skyblue')\n",
        "plt.xlabel('Sentiment')\n",
        "plt.ylabel('Count')\n",
        "plt.title('Sentiment Distribution')\n",
        "plt.show()"
      ]
    },
    {
      "cell_type": "code",
      "execution_count": 4,
      "metadata": {
        "colab": {
          "base_uri": "https://localhost:8080/"
        },
        "id": "u76VRC4P9k1y",
        "outputId": "b1af9be9-f043-4310-a4cc-dfb2359ad017"
      },
      "outputs": [
        {
          "name": "stdout",
          "output_type": "stream",
          "text": [
            "<class 'pandas.core.frame.DataFrame'>\n",
            "RangeIndex: 205052 entries, 0 to 205051\n",
            "Data columns (total 6 columns):\n",
            " #   Column         Non-Null Count   Dtype \n",
            "---  ------         --------------   ----- \n",
            " 0   product_name   205052 non-null  object\n",
            " 1   product_price  205052 non-null  object\n",
            " 2   Rate           205052 non-null  object\n",
            " 3   Review         180388 non-null  object\n",
            " 4   Summary        205041 non-null  object\n",
            " 5   Sentiment      205052 non-null  object\n",
            "dtypes: object(6)\n",
            "memory usage: 9.4+ MB\n"
          ]
        }
      ],
      "source": [
        "dataset.info()"
      ]
    },
    {
      "cell_type": "markdown",
      "metadata": {},
      "source": [
        "Checking for missing values"
      ]
    },
    {
      "cell_type": "code",
      "execution_count": 5,
      "metadata": {
        "colab": {
          "base_uri": "https://localhost:8080/"
        },
        "id": "i7HyzXZQ9pl2",
        "outputId": "965ecd89-1d4d-4b2a-94cf-e2b7ee7c4c37"
      },
      "outputs": [
        {
          "name": "stdout",
          "output_type": "stream",
          "text": [
            "product_name         0\n",
            "product_price        0\n",
            "Rate                 0\n",
            "Review           24664\n",
            "Summary             11\n",
            "Sentiment            0\n",
            "dtype: int64\n",
            "Shape:  (205052, 6)\n"
          ]
        }
      ],
      "source": [
        "print(dataset.isnull().sum())\n",
        "\n",
        "print('Shape: ', dataset.shape)"
      ]
    },
    {
      "cell_type": "code",
      "execution_count": 6,
      "metadata": {
        "colab": {
          "base_uri": "https://localhost:8080/",
          "height": 206
        },
        "id": "ZBlk2XC79w3v",
        "outputId": "0345b4fd-a5c7-4382-9f41-bfc3b4971b25"
      },
      "outputs": [
        {
          "data": {
            "text/html": [
              "<div>\n",
              "<style scoped>\n",
              "    .dataframe tbody tr th:only-of-type {\n",
              "        vertical-align: middle;\n",
              "    }\n",
              "\n",
              "    .dataframe tbody tr th {\n",
              "        vertical-align: top;\n",
              "    }\n",
              "\n",
              "    .dataframe thead th {\n",
              "        text-align: right;\n",
              "    }\n",
              "</style>\n",
              "<table border=\"1\" class=\"dataframe\">\n",
              "  <thead>\n",
              "    <tr style=\"text-align: right;\">\n",
              "      <th></th>\n",
              "      <th>product_name</th>\n",
              "      <th>product_price</th>\n",
              "      <th>Rate</th>\n",
              "      <th>Review</th>\n",
              "      <th>Summary</th>\n",
              "      <th>Sentiment</th>\n",
              "    </tr>\n",
              "  </thead>\n",
              "  <tbody>\n",
              "    <tr>\n",
              "      <th>0</th>\n",
              "      <td>Candes 12 L Room/Personal Air Cooler??????(Whi...</td>\n",
              "      <td>3999</td>\n",
              "      <td>5</td>\n",
              "      <td>super!</td>\n",
              "      <td>great cooler excellent air flow and for this p...</td>\n",
              "      <td>positive</td>\n",
              "    </tr>\n",
              "    <tr>\n",
              "      <th>1</th>\n",
              "      <td>Candes 12 L Room/Personal Air Cooler??????(Whi...</td>\n",
              "      <td>3999</td>\n",
              "      <td>5</td>\n",
              "      <td>awesome</td>\n",
              "      <td>best budget 2 fit cooler nice cooling</td>\n",
              "      <td>positive</td>\n",
              "    </tr>\n",
              "    <tr>\n",
              "      <th>2</th>\n",
              "      <td>Candes 12 L Room/Personal Air Cooler??????(Whi...</td>\n",
              "      <td>3999</td>\n",
              "      <td>3</td>\n",
              "      <td>fair</td>\n",
              "      <td>the quality is good but the power of air is de...</td>\n",
              "      <td>positive</td>\n",
              "    </tr>\n",
              "    <tr>\n",
              "      <th>3</th>\n",
              "      <td>Candes 12 L Room/Personal Air Cooler??????(Whi...</td>\n",
              "      <td>3999</td>\n",
              "      <td>1</td>\n",
              "      <td>useless product</td>\n",
              "      <td>very bad product its a only a fan</td>\n",
              "      <td>negative</td>\n",
              "    </tr>\n",
              "    <tr>\n",
              "      <th>4</th>\n",
              "      <td>Candes 12 L Room/Personal Air Cooler??????(Whi...</td>\n",
              "      <td>3999</td>\n",
              "      <td>3</td>\n",
              "      <td>fair</td>\n",
              "      <td>ok ok product</td>\n",
              "      <td>neutral</td>\n",
              "    </tr>\n",
              "  </tbody>\n",
              "</table>\n",
              "</div>"
            ],
            "text/plain": [
              "                                        product_name product_price Rate  \\\n",
              "0  Candes 12 L Room/Personal Air Cooler??????(Whi...          3999    5   \n",
              "1  Candes 12 L Room/Personal Air Cooler??????(Whi...          3999    5   \n",
              "2  Candes 12 L Room/Personal Air Cooler??????(Whi...          3999    3   \n",
              "3  Candes 12 L Room/Personal Air Cooler??????(Whi...          3999    1   \n",
              "4  Candes 12 L Room/Personal Air Cooler??????(Whi...          3999    3   \n",
              "\n",
              "            Review                                            Summary  \\\n",
              "0           super!  great cooler excellent air flow and for this p...   \n",
              "1          awesome              best budget 2 fit cooler nice cooling   \n",
              "2             fair  the quality is good but the power of air is de...   \n",
              "3  useless product                  very bad product its a only a fan   \n",
              "4             fair                                      ok ok product   \n",
              "\n",
              "  Sentiment  \n",
              "0  positive  \n",
              "1  positive  \n",
              "2  positive  \n",
              "3  negative  \n",
              "4   neutral  "
            ]
          },
          "execution_count": 6,
          "metadata": {},
          "output_type": "execute_result"
        }
      ],
      "source": [
        "dataset.head()"
      ]
    },
    {
      "cell_type": "code",
      "execution_count": 7,
      "metadata": {
        "id": "USn1XA2l-LTx"
      },
      "outputs": [],
      "source": [
        "data = dataset.drop(['product_name','product_price','Rate'], axis=1) #removing the columns we don't need"
      ]
    },
    {
      "cell_type": "code",
      "execution_count": 8,
      "metadata": {
        "colab": {
          "base_uri": "https://localhost:8080/",
          "height": 206
        },
        "id": "osgDBN93-5Vr",
        "outputId": "75f0cf4e-5b65-4c76-cbcd-0055be679086"
      },
      "outputs": [
        {
          "data": {
            "text/html": [
              "<div>\n",
              "<style scoped>\n",
              "    .dataframe tbody tr th:only-of-type {\n",
              "        vertical-align: middle;\n",
              "    }\n",
              "\n",
              "    .dataframe tbody tr th {\n",
              "        vertical-align: top;\n",
              "    }\n",
              "\n",
              "    .dataframe thead th {\n",
              "        text-align: right;\n",
              "    }\n",
              "</style>\n",
              "<table border=\"1\" class=\"dataframe\">\n",
              "  <thead>\n",
              "    <tr style=\"text-align: right;\">\n",
              "      <th></th>\n",
              "      <th>Review</th>\n",
              "      <th>Summary</th>\n",
              "      <th>Sentiment</th>\n",
              "    </tr>\n",
              "  </thead>\n",
              "  <tbody>\n",
              "    <tr>\n",
              "      <th>0</th>\n",
              "      <td>super!</td>\n",
              "      <td>great cooler excellent air flow and for this p...</td>\n",
              "      <td>positive</td>\n",
              "    </tr>\n",
              "    <tr>\n",
              "      <th>1</th>\n",
              "      <td>awesome</td>\n",
              "      <td>best budget 2 fit cooler nice cooling</td>\n",
              "      <td>positive</td>\n",
              "    </tr>\n",
              "    <tr>\n",
              "      <th>2</th>\n",
              "      <td>fair</td>\n",
              "      <td>the quality is good but the power of air is de...</td>\n",
              "      <td>positive</td>\n",
              "    </tr>\n",
              "    <tr>\n",
              "      <th>3</th>\n",
              "      <td>useless product</td>\n",
              "      <td>very bad product its a only a fan</td>\n",
              "      <td>negative</td>\n",
              "    </tr>\n",
              "    <tr>\n",
              "      <th>4</th>\n",
              "      <td>fair</td>\n",
              "      <td>ok ok product</td>\n",
              "      <td>neutral</td>\n",
              "    </tr>\n",
              "  </tbody>\n",
              "</table>\n",
              "</div>"
            ],
            "text/plain": [
              "            Review                                            Summary  \\\n",
              "0           super!  great cooler excellent air flow and for this p...   \n",
              "1          awesome              best budget 2 fit cooler nice cooling   \n",
              "2             fair  the quality is good but the power of air is de...   \n",
              "3  useless product                  very bad product its a only a fan   \n",
              "4             fair                                      ok ok product   \n",
              "\n",
              "  Sentiment  \n",
              "0  positive  \n",
              "1  positive  \n",
              "2  positive  \n",
              "3  negative  \n",
              "4   neutral  "
            ]
          },
          "execution_count": 8,
          "metadata": {},
          "output_type": "execute_result"
        }
      ],
      "source": [
        "data.head()"
      ]
    },
    {
      "cell_type": "code",
      "execution_count": 9,
      "metadata": {
        "colab": {
          "base_uri": "https://localhost:8080/"
        },
        "id": "C68VIUG_-7-i",
        "outputId": "1cb69dd8-8368-495b-d13b-4e67680d5ec6"
      },
      "outputs": [
        {
          "name": "stdout",
          "output_type": "stream",
          "text": [
            "(180379, 3)\n",
            "Review       0\n",
            "Summary      0\n",
            "Sentiment    0\n",
            "dtype: int64\n"
          ]
        }
      ],
      "source": [
        "data.dropna(inplace=True, axis=0)\n",
        "print(data.shape)\n",
        "print(data.isnull().sum())"
      ]
    },
    {
      "cell_type": "code",
      "execution_count": 10,
      "metadata": {
        "colab": {
          "base_uri": "https://localhost:8080/",
          "height": 489
        },
        "id": "4V9N92yn_RM8",
        "outputId": "7f377ed6-f561-45ac-ee95-bb950131acd6"
      },
      "outputs": [
        {
          "data": {
            "text/plain": [
              "Review\n",
              "wonderful                    9014\n",
              "not specified                8351\n",
              "brilliant                    5643\n",
              "awesome                      5636\n",
              "great product                5621\n",
              "                             ... \n",
              "good 360 rotation product       1\n",
              "amazing camera                  1\n",
              "ptz camera                      1\n",
              "good camera from qubo           1\n",
              "regular usage not good.         1\n",
              "Name: count, Length: 1324, dtype: int64"
            ]
          },
          "execution_count": 10,
          "metadata": {},
          "output_type": "execute_result"
        }
      ],
      "source": [
        "data['Review'].value_counts() #distribution of data"
      ]
    },
    {
      "cell_type": "code",
      "execution_count": 11,
      "metadata": {
        "id": "fmwX-lXL_lm_"
      },
      "outputs": [],
      "source": [
        "data= data[data['Review']!='not specified']"
      ]
    },
    {
      "cell_type": "code",
      "execution_count": 12,
      "metadata": {
        "id": "eoNUnuqpANVe"
      },
      "outputs": [],
      "source": [
        "data= data[data['Review']!='pigeon favourite electric kettle??????(1.5 l, silver, black)']"
      ]
    },
    {
      "cell_type": "code",
      "execution_count": 13,
      "metadata": {
        "colab": {
          "base_uri": "https://localhost:8080/",
          "height": 489
        },
        "id": "k2Do-dzuEj02",
        "outputId": "a2a961b3-ec9a-4df4-a570-50ce1bb785a8"
      },
      "outputs": [
        {
          "data": {
            "text/plain": [
              "Review\n",
              "wonderful                          9014\n",
              "brilliant                          5643\n",
              "awesome                            5636\n",
              "great product                      5621\n",
              "classy product                     5602\n",
              "                                   ... \n",
              "excellent and must buy                1\n",
              "customer support not available.       1\n",
              "awesomevery good                      1\n",
              "hoping for the best                   1\n",
              "smart kettle                          1\n",
              "Name: count, Length: 1322, dtype: int64"
            ]
          },
          "execution_count": 13,
          "metadata": {},
          "output_type": "execute_result"
        }
      ],
      "source": [
        "data['Review'].value_counts()"
      ]
    },
    {
      "cell_type": "markdown",
      "metadata": {},
      "source": [
        "Text Preprocessing"
      ]
    },
    {
      "cell_type": "code",
      "execution_count": 14,
      "metadata": {
        "id": "_yaRow4DFg4O"
      },
      "outputs": [],
      "source": [
        "\n",
        "def clean_column(text):\n",
        "    if text is not None:\n",
        "        text= text.lower()\n",
        "        text= re.sub(r'-|_','', text)\n",
        "        text= re.sub(r\"[^\\w\\s']|\\n|[0-9]+\",'',text)\n",
        "        text= re.sub(r'<.*?>','',text)\n",
        "    return text\n",
        "\n",
        "data['Review']=data['Review'].apply(clean_column)\n",
        "data['Summary']=data['Summary'].apply(clean_column)\n"
      ]
    },
    {
      "cell_type": "code",
      "execution_count": 15,
      "metadata": {
        "colab": {
          "base_uri": "https://localhost:8080/",
          "height": 397
        },
        "id": "mkrccoxTKulW",
        "outputId": "1555a8b8-1d14-4612-c3bd-c65223bcb2c4"
      },
      "outputs": [
        {
          "data": {
            "text/plain": [
              "0    great cooler excellent air flow and for this p...\n",
              "1                 best budget  fit cooler nice cooling\n",
              "2    the quality is good but the power of air is de...\n",
              "3                    very bad product its a only a fan\n",
              "4                                        ok ok product\n",
              "5    the cooler is really fantastic and provides go...\n",
              "6                                    very good product\n",
              "7                                            very nice\n",
              "8                                      very bad cooler\n",
              "9                                            very good\n",
              "Name: Summary, dtype: object"
            ]
          },
          "execution_count": 15,
          "metadata": {},
          "output_type": "execute_result"
        }
      ],
      "source": [
        "data['Summary'].head(10)"
      ]
    },
    {
      "cell_type": "code",
      "execution_count": 16,
      "metadata": {
        "colab": {
          "base_uri": "https://localhost:8080/"
        },
        "id": "ppWVY1fyK2jk",
        "outputId": "22db6aad-842b-481c-dfdf-c2d8b63392d3"
      },
      "outputs": [
        {
          "name": "stdout",
          "output_type": "stream",
          "text": [
            "4\n",
            "0\n"
          ]
        }
      ],
      "source": [
        "print((data['Review']=='').sum())\n",
        "print((data['Summary']=='').sum())\n",
        "\n"
      ]
    },
    {
      "cell_type": "code",
      "execution_count": 17,
      "metadata": {
        "id": "I66j7PD5LFTR"
      },
      "outputs": [],
      "source": [
        "data= data[data['Review']!='']"
      ]
    },
    {
      "cell_type": "markdown",
      "metadata": {},
      "source": [
        "Vector conversion"
      ]
    },
    {
      "cell_type": "code",
      "execution_count": 18,
      "metadata": {
        "colab": {
          "base_uri": "https://localhost:8080/",
          "height": 206
        },
        "id": "PXgqxK1fLOJS",
        "outputId": "7e5051ba-362e-4755-fed6-e79962e3f780"
      },
      "outputs": [
        {
          "data": {
            "text/html": [
              "<div>\n",
              "<style scoped>\n",
              "    .dataframe tbody tr th:only-of-type {\n",
              "        vertical-align: middle;\n",
              "    }\n",
              "\n",
              "    .dataframe tbody tr th {\n",
              "        vertical-align: top;\n",
              "    }\n",
              "\n",
              "    .dataframe thead th {\n",
              "        text-align: right;\n",
              "    }\n",
              "</style>\n",
              "<table border=\"1\" class=\"dataframe\">\n",
              "  <thead>\n",
              "    <tr style=\"text-align: right;\">\n",
              "      <th></th>\n",
              "      <th>Review</th>\n",
              "      <th>Summary</th>\n",
              "      <th>Sentiment</th>\n",
              "    </tr>\n",
              "  </thead>\n",
              "  <tbody>\n",
              "    <tr>\n",
              "      <th>0</th>\n",
              "      <td>[super]</td>\n",
              "      <td>[great, cooler, excellent, air, flow, and, for...</td>\n",
              "      <td>positive</td>\n",
              "    </tr>\n",
              "    <tr>\n",
              "      <th>1</th>\n",
              "      <td>[awesome]</td>\n",
              "      <td>[best, budget, fit, cooler, nice, cooling]</td>\n",
              "      <td>positive</td>\n",
              "    </tr>\n",
              "    <tr>\n",
              "      <th>2</th>\n",
              "      <td>[fair]</td>\n",
              "      <td>[the, quality, is, good, but, the, power, of, ...</td>\n",
              "      <td>positive</td>\n",
              "    </tr>\n",
              "    <tr>\n",
              "      <th>3</th>\n",
              "      <td>[useless, product]</td>\n",
              "      <td>[very, bad, product, its, a, only, a, fan]</td>\n",
              "      <td>negative</td>\n",
              "    </tr>\n",
              "    <tr>\n",
              "      <th>4</th>\n",
              "      <td>[fair]</td>\n",
              "      <td>[ok, ok, product]</td>\n",
              "      <td>neutral</td>\n",
              "    </tr>\n",
              "  </tbody>\n",
              "</table>\n",
              "</div>"
            ],
            "text/plain": [
              "               Review                                            Summary  \\\n",
              "0             [super]  [great, cooler, excellent, air, flow, and, for...   \n",
              "1           [awesome]         [best, budget, fit, cooler, nice, cooling]   \n",
              "2              [fair]  [the, quality, is, good, but, the, power, of, ...   \n",
              "3  [useless, product]         [very, bad, product, its, a, only, a, fan]   \n",
              "4              [fair]                                  [ok, ok, product]   \n",
              "\n",
              "  Sentiment  \n",
              "0  positive  \n",
              "1  positive  \n",
              "2  positive  \n",
              "3  negative  \n",
              "4   neutral  "
            ]
          },
          "execution_count": 18,
          "metadata": {},
          "output_type": "execute_result"
        }
      ],
      "source": [
        "\n",
        "def tokenizing_the_body(text):\n",
        "    tokenized_text= word_tokenize(text)\n",
        "    return tokenized_text\n",
        "data['Review']=data['Review'].apply(tokenizing_the_body)\n",
        "data['Summary']=data['Summary'].apply(tokenizing_the_body)\n",
        "\n",
        "data.head()"
      ]
    },
    {
      "cell_type": "code",
      "execution_count": 19,
      "metadata": {
        "id": "PZm1WOdnL_Pf"
      },
      "outputs": [],
      "source": [
        "\n",
        "all_stop_words= set(stopwords.words('english'))\n",
        "all_stop_words.remove('not')\n",
        "def stop_word_remover(tokens):\n",
        "    filtered_token=[]\n",
        "    for word in tokens:\n",
        "        if word not in all_stop_words and len(word)>1:\n",
        "            filtered_token.append(word)\n",
        "    return filtered_token\n",
        "\n",
        "data['Review']= data['Review'].apply(stop_word_remover)\n",
        "data['Summary']= data['Summary'].apply(stop_word_remover)\n",
        "\n"
      ]
    },
    {
      "cell_type": "code",
      "execution_count": 20,
      "metadata": {
        "colab": {
          "base_uri": "https://localhost:8080/",
          "height": 206
        },
        "id": "NMJZZEpINDPe",
        "outputId": "06bf4a7c-c934-476d-cbbd-6cf6a62003cb"
      },
      "outputs": [
        {
          "data": {
            "text/html": [
              "<div>\n",
              "<style scoped>\n",
              "    .dataframe tbody tr th:only-of-type {\n",
              "        vertical-align: middle;\n",
              "    }\n",
              "\n",
              "    .dataframe tbody tr th {\n",
              "        vertical-align: top;\n",
              "    }\n",
              "\n",
              "    .dataframe thead th {\n",
              "        text-align: right;\n",
              "    }\n",
              "</style>\n",
              "<table border=\"1\" class=\"dataframe\">\n",
              "  <thead>\n",
              "    <tr style=\"text-align: right;\">\n",
              "      <th></th>\n",
              "      <th>Review</th>\n",
              "      <th>Summary</th>\n",
              "      <th>Sentiment</th>\n",
              "    </tr>\n",
              "  </thead>\n",
              "  <tbody>\n",
              "    <tr>\n",
              "      <th>0</th>\n",
              "      <td>[super]</td>\n",
              "      <td>[great, cooler, excellent, air, flow, price, a...</td>\n",
              "      <td>positive</td>\n",
              "    </tr>\n",
              "    <tr>\n",
              "      <th>1</th>\n",
              "      <td>[awesome]</td>\n",
              "      <td>[best, budget, fit, cooler, nice, cooling]</td>\n",
              "      <td>positive</td>\n",
              "    </tr>\n",
              "    <tr>\n",
              "      <th>2</th>\n",
              "      <td>[fair]</td>\n",
              "      <td>[quality, good, power, air, decent]</td>\n",
              "      <td>positive</td>\n",
              "    </tr>\n",
              "    <tr>\n",
              "      <th>3</th>\n",
              "      <td>[useless, product]</td>\n",
              "      <td>[bad, product, fan]</td>\n",
              "      <td>negative</td>\n",
              "    </tr>\n",
              "    <tr>\n",
              "      <th>4</th>\n",
              "      <td>[fair]</td>\n",
              "      <td>[ok, ok, product]</td>\n",
              "      <td>neutral</td>\n",
              "    </tr>\n",
              "  </tbody>\n",
              "</table>\n",
              "</div>"
            ],
            "text/plain": [
              "               Review                                            Summary  \\\n",
              "0             [super]  [great, cooler, excellent, air, flow, price, a...   \n",
              "1           [awesome]         [best, budget, fit, cooler, nice, cooling]   \n",
              "2              [fair]                [quality, good, power, air, decent]   \n",
              "3  [useless, product]                                [bad, product, fan]   \n",
              "4              [fair]                                  [ok, ok, product]   \n",
              "\n",
              "  Sentiment  \n",
              "0  positive  \n",
              "1  positive  \n",
              "2  positive  \n",
              "3  negative  \n",
              "4   neutral  "
            ]
          },
          "execution_count": 20,
          "metadata": {},
          "output_type": "execute_result"
        }
      ],
      "source": [
        "data.head()"
      ]
    },
    {
      "cell_type": "markdown",
      "metadata": {},
      "source": [
        "Lemmatisation\n"
      ]
    },
    {
      "cell_type": "code",
      "execution_count": 21,
      "metadata": {
        "id": "VHWecueWP7ht"
      },
      "outputs": [],
      "source": [
        "\n",
        "\n",
        "lemmatizer = WordNetLemmatizer()\n",
        "\n",
        "def get_pos(tag):\n",
        "\n",
        "    tag = tag[0].upper()\n",
        "    if tag == 'J':\n",
        "        return wordnet.ADJ\n",
        "    elif tag == 'N':\n",
        "        return wordnet.NOUN\n",
        "    elif tag == 'R':\n",
        "        return wordnet.ADV\n",
        "    elif tag == 'V':\n",
        "        return wordnet.VERB\n",
        "    else:\n",
        "        return wordnet.NOUN\n",
        "def lemma_finder(token_list):\n",
        "\n",
        "    if not token_list:\n",
        "        return []\n",
        "\n",
        "    tagged_tokens = pos_tag(token_list)\n",
        "\n",
        "    lemmatized_tokens = []\n",
        "    for word, tag in tagged_tokens:\n",
        "        wn_tag = get_pos(tag)\n",
        "        lemma = lemmatizer.lemmatize(word, pos=wn_tag)\n",
        "        lemmatized_tokens.append(lemma)\n",
        "\n",
        "    return lemmatized_tokens\n",
        "\n",
        "data['Summary'] = data['Summary'].apply(lemma_finder)\n",
        "data['Review'] = data['Review'].apply(lemma_finder)\n",
        "\n",
        "\n"
      ]
    },
    {
      "cell_type": "code",
      "execution_count": 22,
      "metadata": {
        "colab": {
          "base_uri": "https://localhost:8080/",
          "height": 206
        },
        "id": "9SZP3Y3lQh1N",
        "outputId": "bdf5c544-daab-4987-9ac6-3afadf15d7f4"
      },
      "outputs": [
        {
          "data": {
            "text/html": [
              "<div>\n",
              "<style scoped>\n",
              "    .dataframe tbody tr th:only-of-type {\n",
              "        vertical-align: middle;\n",
              "    }\n",
              "\n",
              "    .dataframe tbody tr th {\n",
              "        vertical-align: top;\n",
              "    }\n",
              "\n",
              "    .dataframe thead th {\n",
              "        text-align: right;\n",
              "    }\n",
              "</style>\n",
              "<table border=\"1\" class=\"dataframe\">\n",
              "  <thead>\n",
              "    <tr style=\"text-align: right;\">\n",
              "      <th></th>\n",
              "      <th>Review</th>\n",
              "      <th>Summary</th>\n",
              "      <th>Sentiment</th>\n",
              "    </tr>\n",
              "  </thead>\n",
              "  <tbody>\n",
              "    <tr>\n",
              "      <th>0</th>\n",
              "      <td>[super]</td>\n",
              "      <td>[great, cooler, excellent, air, flow, price, a...</td>\n",
              "      <td>positive</td>\n",
              "    </tr>\n",
              "    <tr>\n",
              "      <th>1</th>\n",
              "      <td>[awesome]</td>\n",
              "      <td>[best, budget, fit, cooler, nice, cooling]</td>\n",
              "      <td>positive</td>\n",
              "    </tr>\n",
              "    <tr>\n",
              "      <th>2</th>\n",
              "      <td>[fair]</td>\n",
              "      <td>[quality, good, power, air, decent]</td>\n",
              "      <td>positive</td>\n",
              "    </tr>\n",
              "    <tr>\n",
              "      <th>3</th>\n",
              "      <td>[useless, product]</td>\n",
              "      <td>[bad, product, fan]</td>\n",
              "      <td>negative</td>\n",
              "    </tr>\n",
              "    <tr>\n",
              "      <th>4</th>\n",
              "      <td>[fair]</td>\n",
              "      <td>[ok, ok, product]</td>\n",
              "      <td>neutral</td>\n",
              "    </tr>\n",
              "  </tbody>\n",
              "</table>\n",
              "</div>"
            ],
            "text/plain": [
              "               Review                                            Summary  \\\n",
              "0             [super]  [great, cooler, excellent, air, flow, price, a...   \n",
              "1           [awesome]         [best, budget, fit, cooler, nice, cooling]   \n",
              "2              [fair]                [quality, good, power, air, decent]   \n",
              "3  [useless, product]                                [bad, product, fan]   \n",
              "4              [fair]                                  [ok, ok, product]   \n",
              "\n",
              "  Sentiment  \n",
              "0  positive  \n",
              "1  positive  \n",
              "2  positive  \n",
              "3  negative  \n",
              "4   neutral  "
            ]
          },
          "execution_count": 22,
          "metadata": {},
          "output_type": "execute_result"
        }
      ],
      "source": [
        "data.head()"
      ]
    },
    {
      "cell_type": "code",
      "execution_count": null,
      "metadata": {
        "colab": {
          "base_uri": "https://localhost:8080/",
          "height": 206
        },
        "id": "_cFS2-wjfYWy",
        "outputId": "6d657162-b15b-4151-bbe7-aba7ed9c7d31"
      },
      "outputs": [
        {
          "data": {
            "text/html": [
              "<div>\n",
              "<style scoped>\n",
              "    .dataframe tbody tr th:only-of-type {\n",
              "        vertical-align: middle;\n",
              "    }\n",
              "\n",
              "    .dataframe tbody tr th {\n",
              "        vertical-align: top;\n",
              "    }\n",
              "\n",
              "    .dataframe thead th {\n",
              "        text-align: right;\n",
              "    }\n",
              "</style>\n",
              "<table border=\"1\" class=\"dataframe\">\n",
              "  <thead>\n",
              "    <tr style=\"text-align: right;\">\n",
              "      <th></th>\n",
              "      <th>Review</th>\n",
              "      <th>Summary</th>\n",
              "      <th>Sentiment</th>\n",
              "    </tr>\n",
              "  </thead>\n",
              "  <tbody>\n",
              "    <tr>\n",
              "      <th>0</th>\n",
              "      <td>[super]</td>\n",
              "      <td>[great, cooler, excellent, air, flow, price, a...</td>\n",
              "      <td>2</td>\n",
              "    </tr>\n",
              "    <tr>\n",
              "      <th>1</th>\n",
              "      <td>[awesome]</td>\n",
              "      <td>[best, budget, fit, cooler, nice, cooling]</td>\n",
              "      <td>2</td>\n",
              "    </tr>\n",
              "    <tr>\n",
              "      <th>2</th>\n",
              "      <td>[fair]</td>\n",
              "      <td>[quality, good, power, air, decent]</td>\n",
              "      <td>2</td>\n",
              "    </tr>\n",
              "    <tr>\n",
              "      <th>3</th>\n",
              "      <td>[useless, product]</td>\n",
              "      <td>[bad, product, fan]</td>\n",
              "      <td>0</td>\n",
              "    </tr>\n",
              "    <tr>\n",
              "      <th>4</th>\n",
              "      <td>[fair]</td>\n",
              "      <td>[ok, ok, product]</td>\n",
              "      <td>1</td>\n",
              "    </tr>\n",
              "  </tbody>\n",
              "</table>\n",
              "</div>"
            ],
            "text/plain": [
              "               Review                                            Summary  \\\n",
              "0             [super]  [great, cooler, excellent, air, flow, price, a...   \n",
              "1           [awesome]         [best, budget, fit, cooler, nice, cooling]   \n",
              "2              [fair]                [quality, good, power, air, decent]   \n",
              "3  [useless, product]                                [bad, product, fan]   \n",
              "4              [fair]                                  [ok, ok, product]   \n",
              "\n",
              "   Sentiment  \n",
              "0          2  \n",
              "1          2  \n",
              "2          2  \n",
              "3          0  \n",
              "4          1  "
            ]
          },
          "execution_count": 23,
          "metadata": {},
          "output_type": "execute_result"
        }
      ],
      "source": [
        "\n",
        "le= LabelEncoder() \n",
        "data['Sentiment'] = le.fit_transform(data['Sentiment']) #encoding the sentiment column\n",
        "data.head()"
      ]
    },
    {
      "cell_type": "code",
      "execution_count": 24,
      "metadata": {
        "id": "eLgPg03ChABN"
      },
      "outputs": [],
      "source": [
        "import numpy as np\n",
        "import pandas as pd\n",
        "\n",
        "\n",
        "\n",
        "data['Review_concat'] = data['Review'].apply(lambda tokens: ' '.join(tokens))\n",
        "data['Summary_concat'] = data['Summary'].apply(lambda tokens: ' '.join(tokens))\n",
        "\n",
        "\n",
        "tf_review = TfidfVectorizer(max_features=3000, ngram_range=(1,2))\n",
        "x1 = tf_review.fit_transform(data['Review_concat'])\n",
        "\n",
        "tf_summary = TfidfVectorizer(max_features=3000, ngram_range=(1,2))\n",
        "x2 = tf_summary.fit_transform(data['Summary_concat'])\n",
        "\n",
        "X = hstack([x1, x2])\n",
        "y = data['Sentiment']\n",
        "\n",
        "xtrain, xtest, ytrain, ytest = train_test_split(X, y, test_size=0.2, stratify=y, random_state=42)\n",
        "\n",
        "\n"
      ]
    },
    {
      "cell_type": "code",
      "execution_count": null,
      "metadata": {},
      "outputs": [],
      "source": [
        "accuraries=[]\n",
        "models=['Naive Bayes', 'Linear SVC', 'Random Forest']"
      ]
    },
    {
      "cell_type": "markdown",
      "metadata": {},
      "source": [
        "Training the model on Naive Bayes"
      ]
    },
    {
      "cell_type": "code",
      "execution_count": 53,
      "metadata": {
        "colab": {
          "base_uri": "https://localhost:8080/"
        },
        "id": "SdMnN9OG0_CD",
        "outputId": "443fff94-4904-435e-f368-3defd1c4cc8c"
      },
      "outputs": [
        {
          "name": "stdout",
          "output_type": "stream",
          "text": [
            "Multinomial Naive Bayes Results:\n",
            "              precision    recall  f1-score   support\n",
            "\n",
            "           0       0.85      0.88      0.86      4646\n",
            "           1       0.52      0.33      0.40      1661\n",
            "           2       0.96      0.97      0.97     28098\n",
            "\n",
            "    accuracy                           0.93     34405\n",
            "   macro avg       0.77      0.73      0.74     34405\n",
            "weighted avg       0.92      0.93      0.92     34405\n",
            "\n",
            "[[ 4067   156   423]\n",
            " [  344   542   775]\n",
            " [  396   345 27357]]\n",
            "Accuracy: 0.9291091411132103\n"
          ]
        }
      ],
      "source": [
        "# Train Multinomial Naive Bayes\n",
        "nb_clf = MultinomialNB()\n",
        "nb_clf.fit(xtrain, ytrain)\n",
        "nb_pred = nb_clf.predict(xtest)\n",
        "\n",
        "print(\"Multinomial Naive Bayes Results:\")\n",
        "print(classification_report(ytest, nb_pred))\n",
        "print(confusion_matrix(ytest, nb_pred))\n",
        "print(\"Accuracy:\", accuracy_score(ytest, nb_pred))\n",
        "accuraries.append(accuracy_score(ytest, nb_pred))\n"
      ]
    },
    {
      "cell_type": "markdown",
      "metadata": {},
      "source": [
        "Training the model on Linear SVC"
      ]
    },
    {
      "cell_type": "code",
      "execution_count": 54,
      "metadata": {
        "colab": {
          "base_uri": "https://localhost:8080/"
        },
        "id": "v_HF9hqG1AVi",
        "outputId": "0a9c4a21-f353-42ee-a048-fc602204f32a"
      },
      "outputs": [
        {
          "name": "stdout",
          "output_type": "stream",
          "text": [
            "Linear SVC Results:\n",
            "              precision    recall  f1-score   support\n",
            "\n",
            "           0       0.87      0.89      0.88      4646\n",
            "           1       0.49      0.59      0.54      1661\n",
            "           2       0.98      0.96      0.97     28098\n",
            "\n",
            "    accuracy                           0.93     34405\n",
            "   macro avg       0.78      0.82      0.80     34405\n",
            "weighted avg       0.94      0.93      0.94     34405\n",
            "\n",
            "[[ 4142   291   213]\n",
            " [  268   986   407]\n",
            " [  372   731 26995]]\n",
            "Accuracy: 0.9336724313326551\n",
            "F1 Score: 0.9360276221416235\n"
          ]
        }
      ],
      "source": [
        "# Train Linear SVC\n",
        "svc_clf = LinearSVC(class_weight='balanced', random_state=42)\n",
        "svc_clf.fit(xtrain, ytrain)\n",
        "svc_pred = svc_clf.predict(xtest)\n",
        "\n",
        "print(\"Linear SVC Results:\")\n",
        "print(classification_report(ytest, svc_pred))\n",
        "print(confusion_matrix(ytest, svc_pred))\n",
        "print(\"Accuracy:\", accuracy_score(ytest, svc_pred))\n",
        "accuraries.append(accuracy_score(ytest, svc_pred))\n",
        "print(\"F1 Score:\", f1_score(ytest, svc_pred, average='weighted'))\n"
      ]
    },
    {
      "cell_type": "markdown",
      "metadata": {},
      "source": [
        "Training the model on RandomForest"
      ]
    },
    {
      "cell_type": "code",
      "execution_count": 55,
      "metadata": {
        "colab": {
          "base_uri": "https://localhost:8080/"
        },
        "id": "soRF1aIU1EFX",
        "outputId": "04b603c9-b053-4d42-c86f-123743b77f13"
      },
      "outputs": [
        {
          "name": "stdout",
          "output_type": "stream",
          "text": [
            "Random Forest Results:\n",
            "              precision    recall  f1-score   support\n",
            "\n",
            "           0       0.79      0.83      0.81      4646\n",
            "           1       0.27      0.59      0.37      1661\n",
            "           2       0.98      0.90      0.94     28098\n",
            "\n",
            "    accuracy                           0.88     34405\n",
            "   macro avg       0.68      0.77      0.71     34405\n",
            "weighted avg       0.92      0.88      0.89     34405\n",
            "\n",
            "[[ 3836   623   187]\n",
            " [  316   977   368]\n",
            " [  729  1953 25416]]\n",
            "Accuracy: 0.8786222932713268\n"
          ]
        }
      ],
      "source": [
        "\n",
        "\n",
        "rf_clf = RandomForestClassifier(\n",
        "    n_estimators=100,\n",
        "    max_depth=4,\n",
        "    class_weight='balanced',\n",
        "    random_state=42,\n",
        "    n_jobs=-1\n",
        ")\n",
        "rf_clf.fit(xtrain, ytrain)\n",
        "rf_pred = rf_clf.predict(xtest)\n",
        "\n",
        "# Evaluation\n",
        "print(\"Random Forest Results:\")\n",
        "print(classification_report(ytest, rf_pred))\n",
        "print(confusion_matrix(ytest, rf_pred))\n",
        "print(\"Accuracy:\", accuracy_score(ytest, rf_pred))\n",
        "accuraries.append(accuracy_score(ytest, rf_pred))"
      ]
    },
    {
      "cell_type": "code",
      "execution_count": 57,
      "metadata": {},
      "outputs": [
        {
          "data": {
            "image/png": "[encoded data removed]",
            "text/plain": [
              "<Figure size 640x480 with 1 Axes>"
            ]
          },
          "metadata": {},
          "output_type": "display_data"
        }
      ],
      "source": [
        "plt.bar(models, accuraries, color='lightgreen')\n",
        "plt.xlabel('Models')\n",
        "plt.ylabel('Accuracy')\n",
        "plt.title('Model Accuracy Comparison')\n",
        "plt.xticks(rotation=45)\n",
        "plt.show()"
      ]
    },
    {
      "cell_type": "markdown",
      "metadata": {},
      "source": [
        "Testing with custom input"
      ]
    },
    {
      "cell_type": "code",
      "execution_count": 31,
      "metadata": {
        "colab": {
          "base_uri": "https://localhost:8080/"
        },
        "id": "04rlhgJLqUkQ",
        "outputId": "3fca6538-9cf7-41cd-8811-459ed92b57a0"
      },
      "outputs": [
        {
          "name": "stdout",
          "output_type": "stream",
          "text": [
            "\n",
            "Automated Merchant Reply:  Thank you for your valuable feedback! We're glad you liked the product. 😊\n"
          ]
        }
      ],
      "source": [
        "def preprocess_input(summary, review):\n",
        "    # Clean\n",
        "    summary = clean_column(summary)\n",
        "    review = clean_column(review)\n",
        "\n",
        "    # Tokenize\n",
        "    summary = word_tokenize(summary)\n",
        "    review = word_tokenize(review)\n",
        "\n",
        "    # Stopword removal\n",
        "    summary = stop_word_remover(summary)\n",
        "    review = stop_word_remover(review)\n",
        "\n",
        "    # Lemmatize\n",
        "    summary = lemma_finder(summary)\n",
        "    review = lemma_finder(review)\n",
        "\n",
        "    # Join for vectorization\n",
        "    summary_str = ' '.join(summary)\n",
        "    review_str = ' '.join(review)\n",
        "\n",
        "    # Vectorize\n",
        "    summary_vec = tf_summary.transform([summary_str])\n",
        "    review_vec = tf_review.transform([review_str])\n",
        "\n",
        "    return hstack([review_vec, summary_vec])\n",
        "\n",
        "\n",
        "summary_input = input(\"Enter the review summary: \")\n",
        "review_input = input(\"Enter the detailed review: \")\n",
        "\n",
        "\n",
        "X_manual = preprocess_input(summary_input, review_input)\n",
        "\n",
        "\n",
        "prediction = svc_clf.predict(X_manual)\n",
        "sentiment = le.inverse_transform(prediction)[0]\n",
        "\n",
        "\n",
        "def generate_reply(sentiment):\n",
        "    if sentiment.lower() =='positive':\n",
        "        return \"Thank you for your valuable feedback! We're glad you liked the product. 😊\"\n",
        "    elif sentiment.lower() =='negative':\n",
        "        return \"We're really sorry to hear about your experience. Please contact our support so we can assist you further. 🙏\"\n",
        "    elif sentiment.lower() =='neutral':\n",
        "        return \"Thank you for your feedback. We'll strive to improve your experience next time. 👍\"\n",
        "    else:\n",
        "        return \"Thanks for your review!\"\n",
        "\n",
        "\n",
        "reply = generate_reply(sentiment)\n",
        "print(\"\\nAutomated Merchant Reply: \", reply)\n",
        "\n",
        "\n",
        "\n"
      ]
    }
  ],
  "metadata": {
    "accelerator": "GPU",
    "colab": {
      "gpuType": "T4",
      "provenance": []
    },
    "kernelspec": {
      "display_name": "Python 3",
      "name": "python3"
    },
    "language_info": {
      "codemirror_mode": {
        "name": "ipython",
        "version": 3
      },
      "file_extension": ".py",
      "mimetype": "text/x-python",
      "name": "python",
      "nbconvert_exporter": "python",
      "pygments_lexer": "ipython3",
      "version": "3.12.9"
    }
  },
  "nbformat": 4,
  "nbformat_minor": 0
}
